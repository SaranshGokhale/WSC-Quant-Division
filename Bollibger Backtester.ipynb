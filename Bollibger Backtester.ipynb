{
 "cells": [
  {
   "cell_type": "code",
   "execution_count": 1,
   "metadata": {},
   "outputs": [],
   "source": [
    "#Importing required libraries\n",
    "import pandas as pd\n",
    "import numpy as np\n",
    "from pandas_datareader import data\n",
    "import requests\n",
    "from math import sqrt\n",
    "import matplotlib.pyplot as plt\n",
    "plt.style.use('seaborn-whitegrid')\n",
    "%matplotlib inline"
   ]
  },
  {
   "cell_type": "code",
   "execution_count": 2,
   "metadata": {},
   "outputs": [],
   "source": [
    "portfolio = 1e5 #Portfolio total worth of 1 lakh\n",
    "tscost = 0.005 #Per trade transaction cost of 0.5%, so if two stocks of 30 each are bought, (1+0.005)*2*30 is charged in total\n",
    "nstocks = 0\n",
    "\n",
    "stock_list = ['BHEL.NS','ITC.NS','LUPIN.NS','RELIANCE.NS','IBVENTURES.NS'] #Stock list, to add a stock simply\n",
    "                                                                           #add the ticker according to Yahoo! Finance\n",
    "for stock in stock_list:\n",
    "    nstocks+=1          #Calculates number of stocks according to input stock list"
   ]
  },
  {
   "cell_type": "code",
   "execution_count": 3,
   "metadata": {},
   "outputs": [],
   "source": [
    "#Function to read Data\n",
    "def readData(ticker, n):\n",
    "    stocks.append(data.DataReader(ticker, 'yahoo',start='1/1/2015')) #Taking backtesting period as roughly 5 years\n",
    "    "
   ]
  },
  {
   "cell_type": "code",
   "execution_count": 4,
   "metadata": {},
   "outputs": [],
   "source": [
    "#Defines Bollinger Bands of each ticker\n",
    "def BBands(df1):\n",
    "    window = 25\n",
    "    no_of_std = 2\n",
    "    rolling_mean1 = df1['Adj Close'].rolling(window).mean()\n",
    "    rolling_std1 = df1['Adj Close'].rolling(window).std()\n",
    "    \n",
    "    df1['Bollinger High'] = rolling_mean1 + (rolling_std1 * no_of_std)\n",
    "    df1['Bollinger Mid'] = rolling_mean1\n",
    "    df1['Bollinger Low'] = rolling_mean1 - (rolling_std1 * no_of_std)\n",
    "    df1['Position'] = 0   \n"
   ]
  },
  {
   "cell_type": "code",
   "execution_count": 5,
   "metadata": {},
   "outputs": [],
   "source": [
    "#Defines the Position based on a Bollinger Band strategy as defined below:\n",
    "\n",
    "########################################################################################################################\n",
    "#Entry:  -If today's close, adjusted, is lesser than todays Bollinger High AND yesterdays close was greater than       #                                                                                                                       #\n",
    "#        yesterday's Bollinger High, AND the market is trending down for a day, then SHORT Position                    #\n",
    "#        -Similar for long position                                                                                    #\n",
    "#                                                                                                                      #\n",
    "#Exit: -If short yesterday there was a short position, then exit trade either if todays close becomes lower than todays#                                                                                                                    #\n",
    "#       Bollinger Mid, or if the todays close becomes greater than todays bollinger high, ie, crossover again          #                                                                                                    #\n",
    "#      -Similar for long entry-exit                                                                                    #                           \n",
    "#                                                                                                                      #\n",
    "########################################################################################################################\n",
    "\n",
    "\n",
    "def BBandStrategy(df1):\n",
    "    for row in range(len(df1)):\n",
    "        if(df1['Position'].iloc[row-1]==0):\n",
    "            if (df1['Adj Close'].iloc[row] < df1['Bollinger High'].iloc[row]) and (df1['Adj Close'].iloc[row-1] > df1['Bollinger High'].iloc[row-1]) and (df1['Adj Close'].iloc[row] < df1['Adj Close'].iloc[row-1]):\n",
    "                df1['Position'].iloc[row] = -1\n",
    "\n",
    "            if (df1['Adj Close'].iloc[row] > df1['Bollinger Low'].iloc[row]) and (df1['Adj Close'].iloc[row-1] < df1['Bollinger Low'].iloc[row-1])and (df1['Adj Close'].iloc[row] > df1['Adj Close'].iloc[row-1]):\n",
    "                df1['Position'].iloc[row] = 1\n",
    "\n",
    "            \n",
    "        elif (df1['Position'].iloc[row-1]==1):\n",
    "            if (df1['Adj Close'].iloc[row]>df1['Bollinger Mid'].iloc[row]) or (df1['Adj Close'].iloc[row]<df1['Bollinger Low'].iloc[row]):\n",
    "                df1['Position'].iloc[row] = 0\n",
    "            else:\n",
    "                df1['Position'].iloc[row] = 1\n",
    "\n",
    "        else:\n",
    "            if (df1['Adj Close'].iloc[row]<df1['Bollinger Mid'].iloc[row]) or (df1['Adj Close'].iloc[row]>df1['Bollinger High'].iloc[row]):\n",
    "                df1['Position'].iloc[row] = 0\n",
    "            else:\n",
    "                df1['Position'].iloc[row] = -1\n",
    "\n",
    "    "
   ]
  },
  {
   "cell_type": "code",
   "execution_count": 6,
   "metadata": {},
   "outputs": [
    {
     "name": "stderr",
     "output_type": "stream",
     "text": [
      "C:\\Users\\Sauradeep\\AppData\\Local\\conda\\conda\\envs\\py36\\lib\\site-packages\\pandas\\core\\indexing.py:189: SettingWithCopyWarning: \n",
      "A value is trying to be set on a copy of a slice from a DataFrame\n",
      "\n",
      "See the caveats in the documentation: http://pandas.pydata.org/pandas-docs/stable/indexing.html#indexing-view-versus-copy\n",
      "  self._setitem_with_indexer(indexer, value)\n"
     ]
    }
   ],
   "source": [
    "#Iterating over all the tickers to read data, generate Bollinger Bands and formulate portfolio positions based on strategy\n",
    "i = 0\n",
    "stocks = []\n",
    "for ticker in stock_list:\n",
    "    readData(ticker,i)\n",
    "    BBands(stocks[i])\n",
    "    BBandStrategy(stocks[i])\n",
    "    i+=1\n",
    "\n"
   ]
  },
  {
   "cell_type": "code",
   "execution_count": 11,
   "metadata": {},
   "outputs": [
    {
     "data": {
      "text/plain": [
       "<matplotlib.axes._subplots.AxesSubplot at 0x2364bb90978>"
      ]
     },
     "execution_count": 11,
     "metadata": {},
     "output_type": "execute_result"
    },
    {
     "data": {
      "image/png": "[encoded data removed]",
      "text/plain": [
       "<Figure size 432x288 with 1 Axes>"
      ]
     },
     "metadata": {},
     "output_type": "display_data"
    }
   ],
   "source": [
    "\n",
    "s = (len(stocks[0]),nstocks) #setting the dimensions of the weights vector depending on the available data points\n",
    "weights = np.zeros(s) \n",
    "\n",
    "\n",
    "for row in range(len(stocks[0])):\n",
    "    i = 0\n",
    "    sumwts = 0\n",
    "    for i in range(nstocks):\n",
    "        sumwts+=np.abs(stocks[i]['Position'].iloc[row]) #checking how many positions were taken on that day\n",
    "    for i in range(nstocks):\n",
    "        if sumwts>0:\n",
    "            #weights assigned as:\n",
    "            #weights = (portfolio*position)/(no.of positions * adj close on that day * (1+transac cost))\n",
    "            weights[row][i]=(portfolio*stocks[i]['Position'].iloc[row])/((sumwts*stocks[i]['Adj Close'].iloc[row])*(1+tscost))\n",
    "        else:\n",
    "            weights[row][i]=0\n",
    "i = 0\n",
    "\n",
    "\n",
    "for i in range(nstocks):\n",
    "    stocks[i]['Market Return'] = (stocks[i]['Adj Close'] - stocks[i]['Adj Close'].shift(1)) #Absolute market return\n",
    "\n",
    "    \n",
    "#Calculating portfolio return\n",
    "stocks[0]['Strategy Return']=0\n",
    "i = 0\n",
    "for i in range(nstocks):\n",
    "    stocks[0]['Strategy Return']+=stocks[i]['Market Return'] * weights[:,i] #multiplying market return of each\n",
    "                                                                            #ticker with its weight\n",
    "stocks[0]['Strategy Return'][64:].cumsum().plot() #Plotting strategy return"
   ]
  },
  {
   "cell_type": "code",
   "execution_count": 12,
   "metadata": {},
   "outputs": [
    {
     "data": {
      "text/plain": [
       "array([[  0.        ,   0.        ,   0.        ,   0.        ,\n",
       "          0.        ],\n",
       "       [  0.        ,   0.        ,   0.        ,   0.        ,\n",
       "          0.        ],\n",
       "       [  0.        ,   0.        ,   0.        ,   0.        ,\n",
       "          0.        ],\n",
       "       ...,\n",
       "       [747.57688204,   0.        ,  66.33941326,   0.        ,\n",
       "          0.        ],\n",
       "       [  0.        ,   0.        , 130.35829838,   0.        ,\n",
       "          0.        ],\n",
       "       [  0.        ,   0.        , 133.86585389,   0.        ,\n",
       "          0.        ]])"
      ]
     },
     "execution_count": 12,
     "metadata": {},
     "output_type": "execute_result"
    }
   ],
   "source": [
    "weights"
   ]
  },
  {
   "cell_type": "code",
   "execution_count": null,
   "metadata": {},
   "outputs": [],
   "source": []
  }
 ],
 "metadata": {
  "kernelspec": {
   "display_name": "Python 3",
   "language": "python",
   "name": "python3"
  },
  "language_info": {
   "codemirror_mode": {
    "name": "ipython",
    "version": 3
   },
   "file_extension": ".py",
   "mimetype": "text/x-python",
   "name": "python",
   "nbconvert_exporter": "python",
   "pygments_lexer": "ipython3",
   "version": "3.6.5"
  }
 },
 "nbformat": 4,
 "nbformat_minor": 2
}
